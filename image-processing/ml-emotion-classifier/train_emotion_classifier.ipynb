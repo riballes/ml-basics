{
 "cells": [
  {
   "cell_type": "markdown",
   "metadata": {},
   "source": [
    "# Emotion Classifier"
   ]
  },
  {
   "cell_type": "markdown",
   "metadata": {},
   "source": [
    "### Installing WANDB"
   ]
  },
  {
   "cell_type": "code",
   "execution_count": 2,
   "metadata": {},
   "outputs": [
    {
     "name": "stdout",
     "output_type": "stream",
     "text": [
      "W&B Run: https://app.wandb.ai/ricardo-morales-b/emotion-classifier/runs/21thx53y\n",
      "Call `%%wandb` in the cell containing your training loop to display live results.\n"
     ]
    }
   ],
   "source": [
    "from keras.layers import Dense, Flatten\n",
    "from keras.models import Sequential\n",
    "from keras.callbacks import Callback\n",
    "import pandas as pd\n",
    "import numpy as np\n",
    "import cv2\n",
    "from PIL import Image\n",
    "import keras\n",
    "\n",
    "import wandb\n",
    "from wandb.keras import WandbCallback\n",
    "\n",
    "run = wandb.init()\n",
    "config = run.config\n",
    "\n",
    "config.batch_size = 32\n",
    "config.num_epochs = 20\n",
    "\n",
    "input_shape = (48, 48, 1)\n"
   ]
  },
  {
   "cell_type": "markdown",
   "metadata": {},
   "source": [
    "## Loading Dataset"
   ]
  },
  {
   "cell_type": "code",
   "execution_count": 7,
   "metadata": {},
   "outputs": [
    {
     "name": "stderr",
     "output_type": "stream",
     "text": [
      "/usr/local/lib/python2.7/dist-packages/ipykernel_launcher.py:13: FutureWarning: Method .as_matrix will be removed in a future version. Use .values instead.\n",
      "  del sys.path[0]\n"
     ]
    },
    {
     "name": "stdout",
     "output_type": "stream",
     "text": [
      "Train on 28709 samples, validate on 7178 samples\n",
      "Epoch 1/20\n",
      "28709/28709 [==============================] - 22s 771us/step - loss: 1.8026 - acc: 0.2837 - val_loss: 1.6879 - val_acc: 0.3473\n",
      "Resuming run: https://app.wandb.ai/ricardo-morales-b/emotion-classifier/runs/21thx53y\n",
      "Epoch 2/20\n",
      "28709/28709 [==============================] - 3s 97us/step - loss: 1.7571 - acc: 0.3181 - val_loss: 1.6792 - val_acc: 0.3572\n",
      "Epoch 3/20\n",
      "28709/28709 [==============================] - 3s 98us/step - loss: 1.7192 - acc: 0.3361 - val_loss: 1.7246 - val_acc: 0.3447\n",
      "Epoch 4/20\n",
      "28709/28709 [==============================] - 3s 98us/step - loss: 1.7074 - acc: 0.3389 - val_loss: 1.7518 - val_acc: 0.3313\n",
      "Epoch 5/20\n",
      "28709/28709 [==============================] - 3s 99us/step - loss: 1.6968 - acc: 0.3456 - val_loss: 1.8435 - val_acc: 0.3463\n",
      "Epoch 6/20\n",
      "28709/28709 [==============================] - 3s 97us/step - loss: 1.6907 - acc: 0.3498 - val_loss: 1.7449 - val_acc: 0.3051\n",
      "Epoch 7/20\n",
      "28709/28709 [==============================] - 3s 99us/step - loss: 1.6842 - acc: 0.3520 - val_loss: 1.7344 - val_acc: 0.3019\n",
      "Epoch 8/20\n",
      "28709/28709 [==============================] - 3s 98us/step - loss: 1.6745 - acc: 0.3550 - val_loss: 1.9329 - val_acc: 0.3089\n",
      "Epoch 9/20\n",
      "28709/28709 [==============================] - 3s 98us/step - loss: 1.6784 - acc: 0.3512 - val_loss: 1.7185 - val_acc: 0.3441\n",
      "Epoch 10/20\n",
      "28709/28709 [==============================] - 3s 98us/step - loss: 1.6674 - acc: 0.3638 - val_loss: 1.8379 - val_acc: 0.2687\n",
      "Epoch 11/20\n",
      "28709/28709 [==============================] - 3s 98us/step - loss: 1.6661 - acc: 0.3542 - val_loss: 1.7151 - val_acc: 0.3488\n",
      "Epoch 12/20\n",
      "28709/28709 [==============================] - 3s 99us/step - loss: 1.6548 - acc: 0.3641 - val_loss: 1.6753 - val_acc: 0.3534\n",
      "Epoch 13/20\n",
      "28709/28709 [==============================] - 3s 98us/step - loss: 1.6489 - acc: 0.3650 - val_loss: 1.6742 - val_acc: 0.3615\n",
      "Epoch 14/20\n",
      "28709/28709 [==============================] - 3s 98us/step - loss: 1.6480 - acc: 0.3679 - val_loss: 1.7529 - val_acc: 0.3468\n",
      "Epoch 15/20\n",
      "28709/28709 [==============================] - 3s 97us/step - loss: 1.6476 - acc: 0.3688 - val_loss: 1.6953 - val_acc: 0.3575\n",
      "Epoch 16/20\n",
      "28709/28709 [==============================] - 3s 98us/step - loss: 1.6437 - acc: 0.3751 - val_loss: 1.7404 - val_acc: 0.3484\n",
      "Epoch 17/20\n",
      "28709/28709 [==============================] - 3s 98us/step - loss: 1.6436 - acc: 0.3702 - val_loss: 1.7076 - val_acc: 0.3622\n",
      "Epoch 18/20\n",
      "28709/28709 [==============================] - 3s 96us/step - loss: 1.6290 - acc: 0.3724 - val_loss: 1.6857 - val_acc: 0.3387\n",
      "Epoch 19/20\n",
      "28709/28709 [==============================] - 3s 97us/step - loss: 1.6307 - acc: 0.3750 - val_loss: 1.8281 - val_acc: 0.2859\n",
      "Epoch 20/20\n",
      "28709/28709 [==============================] - 3s 97us/step - loss: 1.6333 - acc: 0.3745 - val_loss: 1.9317 - val_acc: 0.2882\n"
     ]
    }
   ],
   "source": [
    "def load_fer2013():\n",
    "    data = pd.read_csv(\"fer2013.csv\")\n",
    "    pixels = data['pixels'].tolist()\n",
    "    width, height = 48, 48\n",
    "    faces = []\n",
    "    for pixel_sequence in pixels:\n",
    "        face = np.asarray(pixel_sequence.split(' '), dtype=np.uint8).reshape(width, height)\n",
    "        face = cv2.resize(face.astype('uint8'), (width, height))\n",
    "        faces.append(face.astype('float32'))\n",
    "\n",
    "    faces = np.asarray(faces)\n",
    "    faces = np.expand_dims(faces, -1)\n",
    "    emotions = pd.get_dummies(data['emotion']).as_matrix()\n",
    "\n",
    "    val_faces = faces[int(len(faces) * 0.8):]\n",
    "    val_emotions = emotions[int(len(faces) * 0.8):]\n",
    "    train_faces = faces[:int(len(faces) * 0.8)]\n",
    "    train_emotions = emotions[:int(len(faces) * 0.8)]\n",
    "    \n",
    "    return train_faces, train_emotions, val_faces, val_emotions\n",
    "\n",
    "train_faces, train_emotions, val_faces, val_emotions = load_fer2013()\n",
    "num_samples, num_classes = train_emotions.shape\n",
    "\n",
    "class Images(Callback):\n",
    "      def on_epoch_end(self, epoch, logs):\n",
    "            labels=[\"Angry\", \"Disgust\", \"Fear\", \"Happy\", \"Sad\", \"Surprise\", \"Neutral\"]\n",
    "            indices = np.random.randint(self.validation_data[0].shape[0], size=8)\n",
    "            test_data = self.validation_data[0][indices]\n",
    "            pred_data = self.model.predict(test_data)\n",
    "            run.history.row.update({\n",
    "                  \"examples\": [\n",
    "                        wandb.Image(Image.fromarray(data.reshape(48,48)*255), caption=labels[np.argmax(pred_data[i])])\n",
    "                        for i, data in enumerate(test_data)]\n",
    "            })\n",
    "\n",
    "\n",
    "train_faces /= 255.\n",
    "val_faces /= 255.\n",
    "\n",
    "model = Sequential()\n",
    "model.add(Flatten(input_shape=input_shape))\n",
    "model.add(Dense(num_classes, activation=\"softmax\"))\n",
    "\n",
    "model.compile(optimizer='adam', loss='categorical_crossentropy',\n",
    "metrics=['accuracy'])\n",
    "\n",
    "model.fit(train_faces, train_emotions, batch_size=config.batch_size,\n",
    "      epochs=config.num_epochs, \n",
    "          verbose=1, callbacks=[WandbCallback(), Images()], validation_data=(val_faces, val_emotions))\n",
    "\n",
    "\n",
    "model.save(\"emotion.h5\")"
   ]
  },
  {
   "cell_type": "code",
   "execution_count": null,
   "metadata": {},
   "outputs": [],
   "source": []
  }
 ],
 "metadata": {
  "kernelspec": {
   "display_name": "Python 2",
   "language": "python",
   "name": "python2"
  },
  "language_info": {
   "codemirror_mode": {
    "name": "ipython",
    "version": 2
   },
   "file_extension": ".py",
   "mimetype": "text/x-python",
   "name": "python",
   "nbconvert_exporter": "python",
   "pygments_lexer": "ipython2",
   "version": "2.7.12"
  }
 },
 "nbformat": 4,
 "nbformat_minor": 2
}
